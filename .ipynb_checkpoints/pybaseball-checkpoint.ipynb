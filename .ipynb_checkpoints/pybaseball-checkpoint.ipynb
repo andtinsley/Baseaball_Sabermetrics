{
 "cells": [
  {
   "cell_type": "code",
   "execution_count": 262,
   "id": "41c6d6f7-4708-4ace-8b46-2dde6b910a25",
   "metadata": {},
   "outputs": [],
   "source": [
    "import pandas as pd\n",
    "import numpy as np\n",
    "import pybaseball as pyb\n",
    "import string as str"
   ]
  },
  {
   "cell_type": "code",
   "execution_count": 263,
   "id": "0c8da98f-84ea-430c-a8fb-9d28e65fe1fb",
   "metadata": {
    "tags": []
   },
   "outputs": [],
   "source": [
    "from pybaseball import batting_stats\n",
    "from pybaseball import batting_stats_bref\n",
    "from pybaseball import pitching_stats\n",
    "from pybaseball import pitching_stats_bref\n",
    "\n",
    "\n",
    "##############  Season Data  ######################\n",
    "\n",
    "# Look at a single season worth of batting or pitching data from Fangraphs and/or Baseball Reference. \n",
    "# Dataframes will display in the Batting Season Data and Pitching Season Data tabs.\n",
    "\n",
    "# Edit the season below to look at a different season\n",
    "season = 2024\n",
    "\n",
    "# Fangraph data is displayed in tabs in the spreadsheet\n",
    "batting = batting_stats(season,qual=0).sort_values(\"Name\")\n",
    "#fangraph_pitching_season_df = pitching_stats(season,qual=0).sort_values(\"Name\")\n",
    "\n",
    "# Simply type \"=<dataframe name>\" in a spreadsheet tab to pull in baseball reference data\n",
    "#baseball_reference_batting_season_df = batting_stats_bref(season).sort_values(\"Name\")\n",
    "#baseball_reference_pitching_season_df = pitching_stats_bref(season).sort_values(\"Name\")\n"
   ]
  },
  {
   "cell_type": "code",
   "execution_count": 264,
   "id": "94a7190c-5251-4ff4-8dd4-c5b8954515d4",
   "metadata": {
    "tags": []
   },
   "outputs": [],
   "source": [
    "batting=batting[batting['AB'] > 20]"
   ]
  },
  {
   "cell_type": "code",
   "execution_count": 265,
   "id": "52e11148-b822-4349-a3be-2f234b041577",
   "metadata": {
    "tags": []
   },
   "outputs": [],
   "source": [
    "batting=batting[['Name', 'Team', 'AB', 'OBP', 'SLG', 'OPS']]"
   ]
  },
  {
   "cell_type": "code",
   "execution_count": 266,
   "id": "7cea5261-6e8c-4b70-9760-7ab588c0164c",
   "metadata": {
    "tags": []
   },
   "outputs": [],
   "source": [
    "def getRank(stat):\n",
    "    return batting[stat].rank(method='dense', ascending = False)\n",
    "def getRankPercent(stat):\n",
    "    return batting[stat] / batting.shape[0]\n",
    "\n",
    "#batting['OPS_Rank']=batting['OPS'].rank(method='dense',ascending=False)"
   ]
  },
  {
   "cell_type": "code",
   "execution_count": 267,
   "id": "762d5477-8153-4f22-bb1f-db2cf8323233",
   "metadata": {
    "tags": []
   },
   "outputs": [],
   "source": [
    "batting['OPS_Rank'] = getRank('OPS')\n",
    "batting['OPS_Rank_Perc']=getRankPercent('OPS_Rank')"
   ]
  },
  {
   "cell_type": "code",
   "execution_count": 268,
   "id": "70f6e691-bc09-4bbf-82cc-cc8a821c9361",
   "metadata": {
    "tags": []
   },
   "outputs": [],
   "source": [
    "batting['OBP_Rank'] = getRank('OBP')\n",
    "batting['OBP_Rank_Perc']=getRankPercent('OBP_Rank')"
   ]
  },
  {
   "cell_type": "code",
   "execution_count": 269,
   "id": "e1a91eb6-bb84-4ec0-8287-b799f2738965",
   "metadata": {
    "tags": []
   },
   "outputs": [
    {
     "data": {
      "text/html": [
       "<div>\n",
       "<style scoped>\n",
       "    .dataframe tbody tr th:only-of-type {\n",
       "        vertical-align: middle;\n",
       "    }\n",
       "\n",
       "    .dataframe tbody tr th {\n",
       "        vertical-align: top;\n",
       "    }\n",
       "\n",
       "    .dataframe thead th {\n",
       "        text-align: right;\n",
       "    }\n",
       "</style>\n",
       "<table border=\"1\" class=\"dataframe\">\n",
       "  <thead>\n",
       "    <tr style=\"text-align: right;\">\n",
       "      <th></th>\n",
       "      <th>Name</th>\n",
       "      <th>Team</th>\n",
       "      <th>AB</th>\n",
       "      <th>OBP</th>\n",
       "      <th>SLG</th>\n",
       "      <th>OPS</th>\n",
       "      <th>OPS_Rank</th>\n",
       "      <th>OPS_Rank_Perc</th>\n",
       "      <th>OBP_Rank</th>\n",
       "      <th>OBP_Rank_Perc</th>\n",
       "    </tr>\n",
       "  </thead>\n",
       "  <tbody>\n",
       "    <tr>\n",
       "      <th>477</th>\n",
       "      <td>Aaron Hicks</td>\n",
       "      <td>LAA</td>\n",
       "      <td>57</td>\n",
       "      <td>0.222</td>\n",
       "      <td>0.193</td>\n",
       "      <td>0.415</td>\n",
       "      <td>288.0</td>\n",
       "      <td>0.608879</td>\n",
       "      <td>163.0</td>\n",
       "      <td>0.344609</td>\n",
       "    </tr>\n",
       "    <tr>\n",
       "      <th>4</th>\n",
       "      <td>Aaron Judge</td>\n",
       "      <td>NYY</td>\n",
       "      <td>256</td>\n",
       "      <td>0.427</td>\n",
       "      <td>0.688</td>\n",
       "      <td>1.115</td>\n",
       "      <td>2.0</td>\n",
       "      <td>0.004228</td>\n",
       "      <td>7.0</td>\n",
       "      <td>0.014799</td>\n",
       "    </tr>\n",
       "    <tr>\n",
       "      <th>228</th>\n",
       "      <td>Abraham Toro</td>\n",
       "      <td>OAK</td>\n",
       "      <td>263</td>\n",
       "      <td>0.305</td>\n",
       "      <td>0.392</td>\n",
       "      <td>0.696</td>\n",
       "      <td>133.0</td>\n",
       "      <td>0.281184</td>\n",
       "      <td>91.0</td>\n",
       "      <td>0.192389</td>\n",
       "    </tr>\n",
       "    <tr>\n",
       "      <th>376</th>\n",
       "      <td>Adam Duvall</td>\n",
       "      <td>ATL</td>\n",
       "      <td>145</td>\n",
       "      <td>0.258</td>\n",
       "      <td>0.324</td>\n",
       "      <td>0.582</td>\n",
       "      <td>215.0</td>\n",
       "      <td>0.454545</td>\n",
       "      <td>136.0</td>\n",
       "      <td>0.287526</td>\n",
       "    </tr>\n",
       "    <tr>\n",
       "      <th>297</th>\n",
       "      <td>Adam Frazier</td>\n",
       "      <td>KCR</td>\n",
       "      <td>132</td>\n",
       "      <td>0.313</td>\n",
       "      <td>0.311</td>\n",
       "      <td>0.624</td>\n",
       "      <td>188.0</td>\n",
       "      <td>0.397463</td>\n",
       "      <td>83.0</td>\n",
       "      <td>0.175476</td>\n",
       "    </tr>\n",
       "    <tr>\n",
       "      <th>...</th>\n",
       "      <td>...</td>\n",
       "      <td>...</td>\n",
       "      <td>...</td>\n",
       "      <td>...</td>\n",
       "      <td>...</td>\n",
       "      <td>...</td>\n",
       "      <td>...</td>\n",
       "      <td>...</td>\n",
       "      <td>...</td>\n",
       "      <td>...</td>\n",
       "    </tr>\n",
       "    <tr>\n",
       "      <th>417</th>\n",
       "      <td>Zach McKinstry</td>\n",
       "      <td>DET</td>\n",
       "      <td>102</td>\n",
       "      <td>0.259</td>\n",
       "      <td>0.284</td>\n",
       "      <td>0.543</td>\n",
       "      <td>238.0</td>\n",
       "      <td>0.503171</td>\n",
       "      <td>135.0</td>\n",
       "      <td>0.285412</td>\n",
       "    </tr>\n",
       "    <tr>\n",
       "      <th>177</th>\n",
       "      <td>Zach Neto</td>\n",
       "      <td>LAA</td>\n",
       "      <td>232</td>\n",
       "      <td>0.298</td>\n",
       "      <td>0.435</td>\n",
       "      <td>0.734</td>\n",
       "      <td>102.0</td>\n",
       "      <td>0.215645</td>\n",
       "      <td>98.0</td>\n",
       "      <td>0.207188</td>\n",
       "    </tr>\n",
       "    <tr>\n",
       "      <th>225</th>\n",
       "      <td>Zach Remillard</td>\n",
       "      <td>CHW</td>\n",
       "      <td>33</td>\n",
       "      <td>0.342</td>\n",
       "      <td>0.333</td>\n",
       "      <td>0.675</td>\n",
       "      <td>150.0</td>\n",
       "      <td>0.317125</td>\n",
       "      <td>55.0</td>\n",
       "      <td>0.116279</td>\n",
       "    </tr>\n",
       "    <tr>\n",
       "      <th>405</th>\n",
       "      <td>Zack Gelof</td>\n",
       "      <td>OAK</td>\n",
       "      <td>192</td>\n",
       "      <td>0.245</td>\n",
       "      <td>0.313</td>\n",
       "      <td>0.558</td>\n",
       "      <td>229.0</td>\n",
       "      <td>0.484144</td>\n",
       "      <td>148.0</td>\n",
       "      <td>0.312896</td>\n",
       "    </tr>\n",
       "    <tr>\n",
       "      <th>455</th>\n",
       "      <td>Zack Short</td>\n",
       "      <td>- - -</td>\n",
       "      <td>55</td>\n",
       "      <td>0.273</td>\n",
       "      <td>0.164</td>\n",
       "      <td>0.436</td>\n",
       "      <td>283.0</td>\n",
       "      <td>0.598309</td>\n",
       "      <td>122.0</td>\n",
       "      <td>0.257928</td>\n",
       "    </tr>\n",
       "  </tbody>\n",
       "</table>\n",
       "<p>473 rows × 10 columns</p>\n",
       "</div>"
      ],
      "text/plain": [
       "               Name   Team   AB    OBP    SLG    OPS  OPS_Rank  OPS_Rank_Perc  \\\n",
       "477     Aaron Hicks    LAA   57  0.222  0.193  0.415     288.0       0.608879   \n",
       "4       Aaron Judge    NYY  256  0.427  0.688  1.115       2.0       0.004228   \n",
       "228    Abraham Toro    OAK  263  0.305  0.392  0.696     133.0       0.281184   \n",
       "376     Adam Duvall    ATL  145  0.258  0.324  0.582     215.0       0.454545   \n",
       "297    Adam Frazier    KCR  132  0.313  0.311  0.624     188.0       0.397463   \n",
       "..              ...    ...  ...    ...    ...    ...       ...            ...   \n",
       "417  Zach McKinstry    DET  102  0.259  0.284  0.543     238.0       0.503171   \n",
       "177       Zach Neto    LAA  232  0.298  0.435  0.734     102.0       0.215645   \n",
       "225  Zach Remillard    CHW   33  0.342  0.333  0.675     150.0       0.317125   \n",
       "405      Zack Gelof    OAK  192  0.245  0.313  0.558     229.0       0.484144   \n",
       "455      Zack Short  - - -   55  0.273  0.164  0.436     283.0       0.598309   \n",
       "\n",
       "     OBP_Rank  OBP_Rank_Perc  \n",
       "477     163.0       0.344609  \n",
       "4         7.0       0.014799  \n",
       "228      91.0       0.192389  \n",
       "376     136.0       0.287526  \n",
       "297      83.0       0.175476  \n",
       "..        ...            ...  \n",
       "417     135.0       0.285412  \n",
       "177      98.0       0.207188  \n",
       "225      55.0       0.116279  \n",
       "405     148.0       0.312896  \n",
       "455     122.0       0.257928  \n",
       "\n",
       "[473 rows x 10 columns]"
      ]
     },
     "execution_count": 269,
     "metadata": {},
     "output_type": "execute_result"
    }
   ],
   "source": [
    "batting"
   ]
  },
  {
   "cell_type": "code",
   "execution_count": 270,
   "id": "f31e1aac-d964-4e34-85e1-b7c436efcee4",
   "metadata": {
    "tags": []
   },
   "outputs": [
    {
     "data": {
      "text/plain": [
       "Team\n",
       "- - -    0.403805\n",
       "ARI      0.272023\n",
       "ATL      0.303911\n",
       "BAL      0.254606\n",
       "BOS      0.282241\n",
       "CHC      0.355840\n",
       "CHW      0.382770\n",
       "CIN      0.330233\n",
       "CLE      0.341790\n",
       "COL      0.348705\n",
       "DET      0.321749\n",
       "HOU      0.258683\n",
       "KCR      0.273784\n",
       "LAA      0.342122\n",
       "LAD      0.251737\n",
       "MIA      0.391876\n",
       "MIL      0.310254\n",
       "MIN      0.279598\n",
       "NYM      0.301797\n",
       "NYY      0.287526\n",
       "OAK      0.360076\n",
       "PHI      0.242565\n",
       "PIT      0.365486\n",
       "SDP      0.295278\n",
       "SEA      0.369415\n",
       "SFG      0.296512\n",
       "STL      0.373337\n",
       "TBR      0.358786\n",
       "TEX      0.356992\n",
       "TOR      0.323291\n",
       "WSN      0.336477\n",
       "Name: OPS_Rank_Perc, dtype: float64"
      ]
     },
     "execution_count": 270,
     "metadata": {},
     "output_type": "execute_result"
    }
   ],
   "source": [
    "batting.groupby('Team')['OPS_Rank_Perc'].mean()"
   ]
  },
  {
   "cell_type": "code",
   "execution_count": 271,
   "id": "d6a6917f-1265-484c-a0b6-99a5a6ffc9ad",
   "metadata": {
    "tags": []
   },
   "outputs": [],
   "source": [
    "def getPlayer(NameLike):\n",
    "    return batting[batting['Name'].str.contains(NameLike)]"
   ]
  },
  {
   "cell_type": "code",
   "execution_count": 286,
   "id": "7f289e11-2c4b-42af-a1cb-4e9d3d64bf3d",
   "metadata": {
    "tags": []
   },
   "outputs": [
    {
     "data": {
      "text/html": [
       "<div>\n",
       "<style scoped>\n",
       "    .dataframe tbody tr th:only-of-type {\n",
       "        vertical-align: middle;\n",
       "    }\n",
       "\n",
       "    .dataframe tbody tr th {\n",
       "        vertical-align: top;\n",
       "    }\n",
       "\n",
       "    .dataframe thead th {\n",
       "        text-align: right;\n",
       "    }\n",
       "</style>\n",
       "<table border=\"1\" class=\"dataframe\">\n",
       "  <thead>\n",
       "    <tr style=\"text-align: right;\">\n",
       "      <th></th>\n",
       "      <th>Name</th>\n",
       "      <th>Team</th>\n",
       "      <th>AB</th>\n",
       "      <th>OBP</th>\n",
       "      <th>SLG</th>\n",
       "      <th>OPS</th>\n",
       "      <th>OPS_Rank</th>\n",
       "      <th>OPS_Rank_Perc</th>\n",
       "      <th>OBP_Rank</th>\n",
       "      <th>OBP_Rank_Perc</th>\n",
       "    </tr>\n",
       "  </thead>\n",
       "  <tbody>\n",
       "    <tr>\n",
       "      <th>80</th>\n",
       "      <td>Jose Altuve</td>\n",
       "      <td>HOU</td>\n",
       "      <td>285</td>\n",
       "      <td>0.349</td>\n",
       "      <td>0.453</td>\n",
       "      <td>0.801</td>\n",
       "      <td>56.0</td>\n",
       "      <td>0.118393</td>\n",
       "      <td>48.0</td>\n",
       "      <td>0.10148</td>\n",
       "    </tr>\n",
       "  </tbody>\n",
       "</table>\n",
       "</div>"
      ],
      "text/plain": [
       "           Name Team   AB    OBP    SLG    OPS  OPS_Rank  OPS_Rank_Perc  \\\n",
       "80  Jose Altuve  HOU  285  0.349  0.453  0.801      56.0       0.118393   \n",
       "\n",
       "    OBP_Rank  OBP_Rank_Perc  \n",
       "80      48.0        0.10148  "
      ]
     },
     "execution_count": 286,
     "metadata": {},
     "output_type": "execute_result"
    }
   ],
   "source": [
    "getPlayer(\"Altuv\")"
   ]
  }
 ],
 "metadata": {
  "kernelspec": {
   "display_name": "bball",
   "language": "python",
   "name": "bball"
  },
  "language_info": {
   "codemirror_mode": {
    "name": "ipython",
    "version": 3
   },
   "file_extension": ".py",
   "mimetype": "text/x-python",
   "name": "python",
   "nbconvert_exporter": "python",
   "pygments_lexer": "ipython3",
   "version": "3.11.5"
  }
 },
 "nbformat": 4,
 "nbformat_minor": 5
}
